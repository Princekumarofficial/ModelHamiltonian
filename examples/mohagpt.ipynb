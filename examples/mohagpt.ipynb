{
 "cells": [
  {
   "cell_type": "code",
   "execution_count": 2,
   "metadata": {},
   "outputs": [
    {
     "name": "stdout",
     "output_type": "stream",
     "text": [
      "Ising model with -2ev energy for each orbital, 1ev interaction energy between adjacent orbitals, and -10 coupling energy along the z-axis between spins. 4-fold symmetry.\n",
      "true\n"
     ]
    },
    {
     "name": "stderr",
     "output_type": "stream",
     "text": [
      "/Users/valeriichuiko/anaconda3/lib/python3.11/site-packages/scipy/sparse/_index.py:100: SparseEfficiencyWarning: Changing the sparsity structure of a csr_matrix is expensive. lil_matrix is more efficient.\n",
      "  self._set_intXint(row, col, x.flat[0])\n"
     ]
    }
   ],
   "source": [
    "from moha.gpt import generate_ham\n",
    "\n",
    "ham = generate_ham(\"generate the Ising model with energy of each orbital equal to -2ev and interaction energy between adjacent orbitals to be equal to 1ev. Coupling energy is -10.\\\n",
    "                    There are 6 orbitals Generate electron integrals in spinorbital orbital basis\\\n",
    "                    and assume 4-fold symmetry.\")"
   ]
  }
 ],
 "metadata": {
  "kernelspec": {
   "display_name": "Python 3",
   "language": "python",
   "name": "python3"
  },
  "language_info": {
   "codemirror_mode": {
    "name": "ipython",
    "version": 3
   },
   "file_extension": ".py",
   "mimetype": "text/x-python",
   "name": "python",
   "nbconvert_exporter": "python",
   "pygments_lexer": "ipython3",
   "version": "3.11.5"
  }
 },
 "nbformat": 4,
 "nbformat_minor": 2
}
