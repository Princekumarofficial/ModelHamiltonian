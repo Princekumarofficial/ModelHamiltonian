{
 "cells": [
  {
   "cell_type": "code",
   "execution_count": 1,
   "metadata": {},
   "outputs": [
    {
     "name": "stdout",
     "output_type": "stream",
     "text": [
      "[('C', 'Cl', 1.0), ('Cl', 'F', 2.0), ('F', 'Si', 1.2), ('Si', 'C', 1.5)]\n",
      "[[-0.41380839  0.          0.          0.        ]\n",
      " [ 0.         -0.47655051  0.          0.        ]\n",
      " [ 0.          0.         -0.64027609  0.        ]\n",
      " [ 0.          0.          0.         -0.29956945]]\n",
      "[[-0.41380839 -0.75449848  0.         -0.56900877]\n",
      " [-0.75449848 -0.47655051 -0.82274152  0.        ]\n",
      " [ 0.         -0.82274152 -0.64027609 -0.56263344]\n",
      " [-0.56900877  0.         -0.56263344 -0.29956945]]\n"
     ]
    }
   ],
   "source": [
    "import sys  \n",
    "sys.path.insert(0, '../')\n",
    "import numpy as np\n",
    "from moha import HamHub\n",
    "\n",
    "# First way to define the Hamiltonian\n",
    "# two site Hubbard model\n",
    "\n",
    "# system = [('C1', 'C2', 1)] is a list of tuples, where each tuple represents a bond\n",
    "# between two atoms and the third element is the type of bond (singe or double).\n",
    "# For now, we only support single bonds between carbon atoms. \n",
    "# For this type of bonds the default values of alpha and beta are -0.414 and -0.0533, respectively.\n",
    "# In the future we are planning to support different types of bonds for different atoms.\n",
    "system = [('C1', 'Cl2', 1.0), ('Cl2', 'F3', 2.0),\n",
    "                    ('F3', 'Si4', 1.2), ('Si4', 'C1', 1.5)]\n",
    "hubbard = HamHub(system,\n",
    "                 alpha=-0.414, beta=-0.0533, u_onsite=np.array([1, 1]))\n",
    "\n",
    "print(hubbard.generate_one_body_integral(dense=True, basis='spatial basis'))"
   ]
  }
 ],
 "metadata": {
  "kernelspec": {
   "display_name": "Python 3",
   "language": "python",
   "name": "python3"
  },
  "language_info": {
   "codemirror_mode": {
    "name": "ipython",
    "version": 3
   },
   "file_extension": ".py",
   "mimetype": "text/x-python",
   "name": "python",
   "nbconvert_exporter": "python",
   "pygments_lexer": "ipython3",
   "version": "3.10.11"
  }
 },
 "nbformat": 4,
 "nbformat_minor": 2
}
