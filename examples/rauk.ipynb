{
 "cells": [
  {
   "cell_type": "markdown",
   "metadata": {},
   "source": [
    "# Rauk's table and Wolfsberrg-Helmholz approximation\n",
    "\n",
    "So far the Hamiltonians treated by the documentation have been focused in carbon chains. With this new update it is possible to work with different atoms, using the Rauk's table or the distance beetween the atoms with the Wolfsberrg-Helmholz aproximation.\n",
    "\n",
    "To generate a Hamiltonian with atoms different from carbon, simply apply the same logic as before: Define a list of tuples with the atoms indexed by the position of their respective site in the compound. The new module of the library has two main purposes:\n",
    "\n",
    "1) If you define the system using atoms different from carbons and the connectivity as ``integer`` numbers, the program will assign to the one body term the $\\alpha$ and $\\beta$ precomputed based on the Rauk's table.\n",
    "\n",
    "2) If you define the system using atoms different from carbons and the connectivity as `float` numbers, the program will assign to the one body term the $\\alpha$ and $\\beta$ computed using the Wolfsberrg-Helmholz approximation, based on the provided distance.\n",
    "\n"
   ]
  },
  {
   "cell_type": "markdown",
   "metadata": {},
   "source": [
    "## Example: Rauk's table\n",
    "\n",
    "Suppose that you want to define a Hubbard model assigning the values based on the Rauk's table. You can do this based on the example below. \n"
   ]
  },
  {
   "cell_type": "code",
   "execution_count": 1,
   "metadata": {},
   "outputs": [
    {
     "name": "stdout",
     "output_type": "stream",
     "text": [
      "[[-0.414    -0.033046  0.       -0.039975]\n",
      " [-0.033046 -0.492884 -0.027183  0.      ]\n",
      " [ 0.       -0.027183 -0.558443 -0.009061]\n",
      " [-0.039975  0.       -0.009061 -0.414   ]]\n"
     ]
    }
   ],
   "source": [
    "import sys  \n",
    "sys.path.insert(0, '../')\n",
    "import numpy as np\n",
    "from moha import HamHub\n",
    "\n",
    "\n",
    "system = [('C1', 'Cl2', 1), ('Cl2', 'F3', 1),\n",
    "                    ('F3', 'Si4', 1), ('Si4', 'C1', 1)]\n",
    "hubbard = HamHub(system, u_onsite=np.array([1, 1]))\n",
    "\n",
    "print(hubbard.generate_one_body_integral(dense=True, basis='spatial basis'))"
   ]
  },
  {
   "cell_type": "markdown",
   "metadata": {},
   "source": [
    "## Example:  Wolfsberrg-Helmholz approximation\n",
    "\n",
    "Suppose now that you want to define the same system, but computing the parameters based on the overlap distance beetween the neighbors atoms. You can do that using the example below.\n",
    "\n",
    "The values of $\\alpha$ and $\\beta$ are computed based on the following formulas:\n",
    "\n",
    "\n",
    "$$\n",
    "\\alpha_X = -(\\text{ionization potential of atom X})\n",
    "$$\n",
    "\n",
    "The $\\beta$ value for the interaction between atom X and atom Y is defined as:\n",
    "\n",
    "$$\n",
    "\\beta_{XY} = 1.75 S_{XY} \\frac{\\alpha_X + \\alpha_Y}{2}\n",
    "$$"
   ]
  },
  {
   "cell_type": "code",
   "execution_count": 2,
   "metadata": {},
   "outputs": [
    {
     "name": "stdout",
     "output_type": "stream",
     "text": [
      "[[-0.41380839 -0.73648465  0.         -0.56460276]\n",
      " [-0.73648465 -0.47655051 -0.84086439  0.        ]\n",
      " [ 0.         -0.84086439 -0.64027609 -0.54414171]\n",
      " [-0.56460276  0.         -0.54414171 -0.29956945]]\n"
     ]
    }
   ],
   "source": [
    "import sys  \n",
    "sys.path.insert(0, '../')\n",
    "import numpy as np\n",
    "from moha import HamHub\n",
    "\n",
    "\n",
    "system = [('C1', 'Cl2', 1.5), ('Cl2', 'F3', 1.8),\n",
    "                    ('F3', 'Si4', 1.8), ('Si4', 'C1', 1.7)]\n",
    "hubbard = HamHub(system, u_onsite=np.array([1, 1]))\n",
    "\n",
    "print(hubbard.generate_one_body_integral(dense=True, basis='spatial basis'))"
   ]
  },
  {
   "cell_type": "markdown",
   "metadata": {},
   "source": [
    "# Example: Usage with molecules \n",
    "\n",
    "If you want to make a chain using molecules you can use the following structure: pass the atom $X_n$ in the position m, the tuple would have the following form `Xm(n)`. Below it's possible to see a example of this. "
   ]
  },
  {
   "cell_type": "code",
   "execution_count": 3,
   "metadata": {},
   "outputs": [
    {
     "name": "stdout",
     "output_type": "stream",
     "text": [
      "[[-0.441183 -0.060762 -0.041574]\n",
      " [-0.060762 -0.465701 -0.039975]\n",
      " [-0.041574 -0.039975 -0.424127]]\n"
     ]
    }
   ],
   "source": [
    "from moha import HamHuck\n",
    "\n",
    "\n",
    "N2_O1_P2 = HamHuck([('N1(2)', 'O2(1)', 1), ('O2(1)', 'P3(2)', 1), ('P3(2)', 'N1(2)', 1)])\n",
    "h1 = N2_O1_P2.generate_one_body_integral(dense=True, basis='spatial basis')\n",
    "print(h1)"
   ]
  },
  {
   "cell_type": "markdown",
   "metadata": {},
   "source": [
    "## Example: Defining the dictionaries \n",
    "\n",
    "It is also possible to define your own dictionary, basically pass the dictionaries following the structure:\n",
    "\n",
    "1) `atom_dictionary = {'atom1': alpha1, 'atom2': alpha2}`\n",
    "2) `bond_dictionary = {'atom1atom2': beta}`"
   ]
  },
  {
   "cell_type": "code",
   "execution_count": 4,
   "metadata": {},
   "outputs": [
    {
     "name": "stdout",
     "output_type": "stream",
     "text": [
      "[[0. 0. 0. 3.]\n",
      " [0. 1. 1. 0.]\n",
      " [0. 1. 2. 2.]\n",
      " [3. 0. 2. 3.]]\n"
     ]
    }
   ],
   "source": [
    "import sys  \n",
    "sys.path.insert(0, '../')\n",
    "import numpy as np\n",
    "from moha import HamHub\n",
    "\n",
    "# First way to define the Hamiltonian\n",
    "# two site Hubbard model\n",
    "\n",
    "# system = [('C1', 'C2', 1)] is a list of tuples, where each tuple represents a bond\n",
    "# between two atoms and the third element is the type of bond (singe or double).\n",
    "# For now, we only support single bonds between carbon atoms. \n",
    "# For this type of bonds the default values of alpha and beta are -0.414 and -0.0533, respectively.\n",
    "# In the future we are planning to support different types of bonds for different atoms.\n",
    "system = [('C1', 'Cl2', 1), ('Cl2', 'F3', 1),\n",
    "                    ('F3', 'Si4', 1), ('Si4', 'C1', 1)]\n",
    "hubbard = HamHub(system, u_onsite=np.array([1, 1]), \n",
    "                 atom_dictionary={'C': 0, 'Cl': 1, 'F': 2, 'Si': 3},\n",
    "                 bond_dictionary={'CCl': 0, 'ClF': 1, 'FSi': 2, 'SiC': 3})\n",
    "\n",
    "print(hubbard.generate_one_body_integral(dense=True, basis='spatial basis'))"
   ]
  }
 ],
 "metadata": {
  "kernelspec": {
   "display_name": "Python 3",
   "language": "python",
   "name": "python3"
  },
  "language_info": {
   "codemirror_mode": {
    "name": "ipython",
    "version": 3
   },
   "file_extension": ".py",
   "mimetype": "text/x-python",
   "name": "python",
   "nbconvert_exporter": "python",
   "pygments_lexer": "ipython3",
   "version": "3.10.11"
  }
 },
 "nbformat": 4,
 "nbformat_minor": 2
}
